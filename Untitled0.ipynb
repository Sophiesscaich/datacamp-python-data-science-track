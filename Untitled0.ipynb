{
  "nbformat": 4,
  "nbformat_minor": 0,
  "metadata": {
    "colab": {
      "name": "Untitled0.ipynb",
      "provenance": [],
      "collapsed_sections": [],
      "authorship_tag": "ABX9TyOeqR6Fg+aBxPAv/sw3432z",
      "include_colab_link": true
    },
    "kernelspec": {
      "name": "python3",
      "display_name": "Python 3"
    },
    "language_info": {
      "name": "python"
    }
  },
  "cells": [
    {
      "cell_type": "markdown",
      "metadata": {
        "id": "view-in-github",
        "colab_type": "text"
      },
      "source": [
        "<a href=\"https://colab.research.google.com/github/Sophiesscaich/datacamp-python-data-science-track/blob/master/Untitled0.ipynb\" target=\"_parent\"><img src=\"https://colab.research.google.com/assets/colab-badge.svg\" alt=\"Open In Colab\"/></a>"
      ]
    },
    {
      "cell_type": "code",
      "execution_count": null,
      "metadata": {
        "id": "-rpZyRqaxq1p"
      },
      "outputs": [],
      "source": [
        "\n",
        "\n",
        "import re\n",
        "import os\n",
        "import numpy as np\n",
        "import cv2\n",
        "import matplotlib.pyplot as plt\n",
        "%matplotlib inline\n",
        "import tensorflow as tf\n",
        "from keras.applications.vgg16 import VGG16\n",
        "from keras.preprocessing.image import ImageDataGenerator\n",
        "from keras.layers import Dense, Flatten\n",
        "\n",
        "\n",
        "import pandas as pd\n",
        "import re\n",
        "\n",
        "class PymWordsCsvBuilder:\n",
        "\n",
        "    SEPARATOR = ';'\n",
        "\n",
        "    def __init__(self):\n",
        "        return;    \n",
        "            \n",
        "    def build_words(self, letters_only=True):\n",
        "        input_path = '/Users/sophieescaich/Documents/Github/Pymano/data/words.txt';\n",
        "        output_path = '/Users/sophieescaich/Documents/Github/Pymano/data/words.csv';\n",
        "        img_path = '/Users/sophieescaich/Documents/DATA/OCR/Données/words/'\n",
        "        \n",
        "        with open(output_path, 'w') as  output_f:\n",
        "            with open(input_path) as input_f: #dossier où se trouve le fichier txt\n",
        "                lines = input_f.readlines()\n",
        "            headers = [\"word_id\",\"word_seg\",\"graylevel\",\"bounding_box_x\",\"bounding_box_y\",\"bounding_box_w\",\"bounding_box_h\", \"gram_tag\", \"transcription_word\",\"path\\n\"]\n",
        "            header = self.SEPARATOR.join(headers)\n",
        "            output_f.write(header)\n",
        "            regex = re.compile(\"^[A-Za-z]*$\")\n",
        "\n",
        "            for line in lines:\n",
        "                if (line[0] != '#'):\n",
        "                    split_line = line.strip().split(' ')\n",
        "                    text = ' '.join(split_line[8:])\n",
        "                    if(not(letters_only) or regex.match(text)):                        \n",
        "                        filenameSplit = split_line[0].split('-')\n",
        "                        filepath = img_path + filenameSplit[0] + \"/\" + filenameSplit[0] + \"-\" + filenameSplit[1] + \"/\" + split_line[0] + \".png\"\n",
        "                        final_line = split_line[0] + self.SEPARATOR + split_line[1] + self.SEPARATOR + split_line[2] \\\n",
        "                        + self.SEPARATOR + split_line[3] + self.SEPARATOR + split_line[4] + self.SEPARATOR \\\n",
        "                        + split_line[5] + self.SEPARATOR + split_line[6] + self.SEPARATOR + split_line[7] \\\n",
        "                        + self.SEPARATOR + text + self.SEPARATOR + filepath +\"\\n\"\n",
        "                        output_f.write(final_line)\n",
        "\n",
        "            input_f.close()\n",
        "            output_f.close()"
      ]
    },
    {
      "cell_type": "code",
      "source": [
        "from google.colab import drive \n",
        "drive.mount('/content/drive')"
      ],
      "metadata": {
        "id": "O-ZpfhYl6_iE"
      },
      "execution_count": null,
      "outputs": []
    },
    {
      "cell_type": "code",
      "source": [
        "data_path=\"/content/drive/MyDrive/Pymano/Données/words/a02/\""
      ],
      "metadata": {
        "id": "x-hwFKo7yZHp"
      },
      "execution_count": 60,
      "outputs": []
    },
    {
      "cell_type": "code",
      "source": [
        "img_shape=(224,224,3)\n",
        "\n"
      ],
      "metadata": {
        "id": "50YduRru1eVh"
      },
      "execution_count": null,
      "outputs": []
    },
    {
      "cell_type": "code",
      "source": [
        "\n"
      ],
      "metadata": {
        "id": "g4oyFiJY3fGe"
      },
      "execution_count": null,
      "outputs": []
    },
    {
      "cell_type": "code",
      "source": [
        "img_shape=(224,224,3)\n"
      ],
      "metadata": {
        "id": "CFsZtLIGywic"
      },
      "execution_count": null,
      "outputs": []
    },
    {
      "cell_type": "code",
      "source": [
        "base_model=VGG16(input_shape=img_shape,include_top=False,weights=\"imagenet\")\n",
        "base_model.summary()\n",
        "base_model.trainable=False"
      ],
      "metadata": {
        "colab": {
          "base_uri": "https://localhost:8080/"
        },
        "id": "3mTBB3ECzQHT",
        "outputId": "499ea15f-a067-41db-9fdb-a1e0a26266b9"
      },
      "execution_count": null,
      "outputs": [
        {
          "output_type": "stream",
          "name": "stdout",
          "text": [
            "Model: \"vgg16\"\n",
            "_________________________________________________________________\n",
            " Layer (type)                Output Shape              Param #   \n",
            "=================================================================\n",
            " input_4 (InputLayer)        [(None, 224, 224, 3)]     0         \n",
            "                                                                 \n",
            " block1_conv1 (Conv2D)       (None, 224, 224, 64)      1792      \n",
            "                                                                 \n",
            " block1_conv2 (Conv2D)       (None, 224, 224, 64)      36928     \n",
            "                                                                 \n",
            " block1_pool (MaxPooling2D)  (None, 112, 112, 64)      0         \n",
            "                                                                 \n",
            " block2_conv1 (Conv2D)       (None, 112, 112, 128)     73856     \n",
            "                                                                 \n",
            " block2_conv2 (Conv2D)       (None, 112, 112, 128)     147584    \n",
            "                                                                 \n",
            " block2_pool (MaxPooling2D)  (None, 56, 56, 128)       0         \n",
            "                                                                 \n",
            " block3_conv1 (Conv2D)       (None, 56, 56, 256)       295168    \n",
            "                                                                 \n",
            " block3_conv2 (Conv2D)       (None, 56, 56, 256)       590080    \n",
            "                                                                 \n",
            " block3_conv3 (Conv2D)       (None, 56, 56, 256)       590080    \n",
            "                                                                 \n",
            " block3_pool (MaxPooling2D)  (None, 28, 28, 256)       0         \n",
            "                                                                 \n",
            " block4_conv1 (Conv2D)       (None, 28, 28, 512)       1180160   \n",
            "                                                                 \n",
            " block4_conv2 (Conv2D)       (None, 28, 28, 512)       2359808   \n",
            "                                                                 \n",
            " block4_conv3 (Conv2D)       (None, 28, 28, 512)       2359808   \n",
            "                                                                 \n",
            " block4_pool (MaxPooling2D)  (None, 14, 14, 512)       0         \n",
            "                                                                 \n",
            " block5_conv1 (Conv2D)       (None, 14, 14, 512)       2359808   \n",
            "                                                                 \n",
            " block5_conv2 (Conv2D)       (None, 14, 14, 512)       2359808   \n",
            "                                                                 \n",
            " block5_conv3 (Conv2D)       (None, 14, 14, 512)       2359808   \n",
            "                                                                 \n",
            " block5_pool (MaxPooling2D)  (None, 7, 7, 512)         0         \n",
            "                                                                 \n",
            "=================================================================\n",
            "Total params: 14,714,688\n",
            "Trainable params: 14,714,688\n",
            "Non-trainable params: 0\n",
            "_________________________________________________________________\n"
          ]
        }
      ]
    },
    {
      "cell_type": "code",
      "source": [
        "base_model.output"
      ],
      "metadata": {
        "colab": {
          "base_uri": "https://localhost:8080/"
        },
        "id": "a5S34Zt90D_l",
        "outputId": "6fe3970e-5bb5-4c38-b334-d1df5810e7ae"
      },
      "execution_count": null,
      "outputs": [
        {
          "output_type": "execute_result",
          "data": {
            "text/plain": [
              "<KerasTensor: shape=(None, 7, 7, 512) dtype=float32 (created by layer 'block5_pool')>"
            ]
          },
          "metadata": {},
          "execution_count": 45
        }
      ]
    },
    {
      "cell_type": "code",
      "source": [
        "x=Flatten()(base_model.output)\n",
        "prediction=Dense(30,activation=\"softmax\")(x)\n",
        "model=tf.keras.Model(inputs=base_model.input,outputs=prediction)\n",
        "model.compile(optimizer='adam', loss='categorical_crossentropy', metrics=['accuracy'])\n",
        "model.summary()"
      ],
      "metadata": {
        "colab": {
          "base_uri": "https://localhost:8080/"
        },
        "id": "isBAsvq0z6HR",
        "outputId": "90af5cd5-1689-41e1-a226-35eadbb09bcf"
      },
      "execution_count": 61,
      "outputs": [
        {
          "output_type": "stream",
          "name": "stdout",
          "text": [
            "Model: \"model_1\"\n",
            "_________________________________________________________________\n",
            " Layer (type)                Output Shape              Param #   \n",
            "=================================================================\n",
            " input_4 (InputLayer)        [(None, 224, 224, 3)]     0         \n",
            "                                                                 \n",
            " block1_conv1 (Conv2D)       (None, 224, 224, 64)      1792      \n",
            "                                                                 \n",
            " block1_conv2 (Conv2D)       (None, 224, 224, 64)      36928     \n",
            "                                                                 \n",
            " block1_pool (MaxPooling2D)  (None, 112, 112, 64)      0         \n",
            "                                                                 \n",
            " block2_conv1 (Conv2D)       (None, 112, 112, 128)     73856     \n",
            "                                                                 \n",
            " block2_conv2 (Conv2D)       (None, 112, 112, 128)     147584    \n",
            "                                                                 \n",
            " block2_pool (MaxPooling2D)  (None, 56, 56, 128)       0         \n",
            "                                                                 \n",
            " block3_conv1 (Conv2D)       (None, 56, 56, 256)       295168    \n",
            "                                                                 \n",
            " block3_conv2 (Conv2D)       (None, 56, 56, 256)       590080    \n",
            "                                                                 \n",
            " block3_conv3 (Conv2D)       (None, 56, 56, 256)       590080    \n",
            "                                                                 \n",
            " block3_pool (MaxPooling2D)  (None, 28, 28, 256)       0         \n",
            "                                                                 \n",
            " block4_conv1 (Conv2D)       (None, 28, 28, 512)       1180160   \n",
            "                                                                 \n",
            " block4_conv2 (Conv2D)       (None, 28, 28, 512)       2359808   \n",
            "                                                                 \n",
            " block4_conv3 (Conv2D)       (None, 28, 28, 512)       2359808   \n",
            "                                                                 \n",
            " block4_pool (MaxPooling2D)  (None, 14, 14, 512)       0         \n",
            "                                                                 \n",
            " block5_conv1 (Conv2D)       (None, 14, 14, 512)       2359808   \n",
            "                                                                 \n",
            " block5_conv2 (Conv2D)       (None, 14, 14, 512)       2359808   \n",
            "                                                                 \n",
            " block5_conv3 (Conv2D)       (None, 14, 14, 512)       2359808   \n",
            "                                                                 \n",
            " block5_pool (MaxPooling2D)  (None, 7, 7, 512)         0         \n",
            "                                                                 \n",
            " flatten_5 (Flatten)         (None, 25088)             0         \n",
            "                                                                 \n",
            " dense_5 (Dense)             (None, 30)                752670    \n",
            "                                                                 \n",
            "=================================================================\n",
            "Total params: 15,467,358\n",
            "Trainable params: 752,670\n",
            "Non-trainable params: 14,714,688\n",
            "_________________________________________________________________\n"
          ]
        }
      ]
    },
    {
      "cell_type": "code",
      "source": [
        "datagen=ImageDataGenerator(rescale=1./255,shear_range=0.2,zoom_range=0.2,horizontal_flip=True, validation_split=0.2)"
      ],
      "metadata": {
        "id": "0psKq0m5zZeA"
      },
      "execution_count": 62,
      "outputs": []
    },
    {
      "cell_type": "code",
      "source": [
        "train=datagen.flow_from_directory(data_path,target_size=(224,224),batch_size=32, class_mode='categorical')"
      ],
      "metadata": {
        "colab": {
          "base_uri": "https://localhost:8080/"
        },
        "id": "IsmyDtBpzbu-",
        "outputId": "249f861c-e705-4031-f9bd-a053019222f0"
      },
      "execution_count": 63,
      "outputs": [
        {
          "output_type": "stream",
          "name": "stdout",
          "text": [
            "Found 812 images belonging to 30 classes.\n"
          ]
        }
      ]
    },
    {
      "cell_type": "code",
      "source": [
        "history=model.fit_generator(train, epochs=5)"
      ],
      "metadata": {
        "id": "ZBGStu4kzkOf",
        "colab": {
          "base_uri": "https://localhost:8080/"
        },
        "outputId": "6fee2351-9cc2-40f6-fd74-d5a70d7b6301"
      },
      "execution_count": 64,
      "outputs": [
        {
          "output_type": "stream",
          "name": "stderr",
          "text": [
            "/usr/local/lib/python3.7/dist-packages/ipykernel_launcher.py:1: UserWarning: `Model.fit_generator` is deprecated and will be removed in a future version. Please use `Model.fit`, which supports generators.\n",
            "  \"\"\"Entry point for launching an IPython kernel.\n"
          ]
        },
        {
          "output_type": "stream",
          "name": "stdout",
          "text": [
            "Epoch 1/5\n",
            "26/26 [==============================] - 432s 16s/step - loss: 2.5038 - accuracy: 0.2734\n",
            "Epoch 2/5\n",
            "26/26 [==============================] - 415s 16s/step - loss: 1.2663 - accuracy: 0.5776\n",
            "Epoch 3/5\n",
            "26/26 [==============================] - 418s 16s/step - loss: 0.9936 - accuracy: 0.6700\n",
            "Epoch 4/5\n",
            "26/26 [==============================] - 414s 16s/step - loss: 0.8207 - accuracy: 0.7352\n",
            "Epoch 5/5\n",
            "26/26 [==============================] - 417s 16s/step - loss: 0.7002 - accuracy: 0.7722\n"
          ]
        }
      ]
    },
    {
      "cell_type": "code",
      "source": [
        "plt.figure(figsize=(12,4))\n",
        "plt.subplot(121)\n",
        "plt.plot(history.history['accuracy'],label=\"accuracy\",color=\"green\",linewidth=3)\n",
        "plt.ylabel('accuracy')\n",
        "plt.xlabel('epoch')\n",
        "plt.legend()\n",
        "plt.subplot(122)\n",
        "plt.plot(history.history['loss'],label=\"loss\",color=\"pink\",linewidth=3)\n",
        "plt.title('Model acc by epoch')\n",
        "plt.ylabel('loss')\n",
        "plt.xlabel('epoch')\n",
        "plt.legend()\n",
        "plt.show();"
      ],
      "metadata": {
        "colab": {
          "base_uri": "https://localhost:8080/",
          "height": 295
        },
        "id": "r2g5GEkWVNOC",
        "outputId": "35885886-46c3-4496-bf94-0168b1ae3f12"
      },
      "execution_count": 69,
      "outputs": [
        {
          "output_type": "display_data",
          "data": {
            "text/plain": [
              "<Figure size 864x288 with 2 Axes>"
            ],
            "image/png": "[encoded data removed]"
          },
          "metadata": {
            "needs_background": "light"
          }
        }
      ]
    },
    {
      "cell_type": "code",
      "source": [
        ""
      ],
      "metadata": {
        "id": "TF1Ac2beoFX_"
      },
      "execution_count": null,
      "outputs": []
    }
  ]
}